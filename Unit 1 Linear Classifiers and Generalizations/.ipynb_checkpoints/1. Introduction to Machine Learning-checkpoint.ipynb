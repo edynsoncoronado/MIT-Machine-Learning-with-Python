{
 "cells": [
  {
   "cell_type": "markdown",
   "metadata": {},
   "source": [
    "## Machine Learning and Prediction"
   ]
  },
  {
   "cell_type": "markdown",
   "metadata": {},
   "source": [
    "Machine learning as a discipline aims to design, understand, and apply computer programs that learn from experience (i.e. data) for the purpose of modelling, prediction, and control. We will start with prediction as a core machine learning task.\n",
    "\n",
    "There are many types of predictions that we can make. We can predict outcomes of events that occur in the future such as the market, weather tomorrow, the next word a text message user will type, or anticipate pedestrian behavior in self driving vehicles, and so on.\n",
    "\n",
    "We can also try to predict properties that we do not yet know. For example, properties of materials such as whether a chemical is soluble in water, what the object is in an image, what an English sentence translates to in Hindi, whether a product review carries positive sentiment, and so on."
   ]
  },
  {
   "cell_type": "markdown",
   "metadata": {},
   "source": [
    "## Introduction to Supervised Learning"
   ]
  },
  {
   "cell_type": "markdown",
   "metadata": {},
   "source": [
    "Common to all these “prediction problems\" mentioned on the previously is that it is very hard to write down a solution in terms of rules or code directly, and far easier to provide examples of correct behavior. For example, how would you encode rules for translation, or image classification? It is much easier to provide large numbers of translated sentences, or examples of what the objects are on a large set of images. The ability to learn the solution from examples is what has made machine learning so popular and pervasive.\n",
    "\n",
    "We will start with supervised learning in this course. In supervised learning, we are given an example (e.g. an image) along with a target (e.g. what object is in the image), and the goal of the machine learning algorithm is to find out how to produce the target from the example.\n",
    "\n",
    "More specifically, in supervised learning, we hypothesize a collection of functions (or mappings) parametrized by a parameter, from the examples (e.g. the images) to the targets (e.g. the objects in the images). The machine learning algorithm then automates the process of finding the parameter of the function that fits with the example-target pairs the best."
   ]
  },
  {
   "cell_type": "markdown",
   "metadata": {},
   "source": [
    "**When you ask for the dimension, a 1xn row vector or a nx1 column vector comes to my mind.**"
   ]
  },
  {
   "cell_type": "markdown",
   "metadata": {},
   "source": [
    "## Introduction to Linear Classifiers"
   ]
  },
  {
   "cell_type": "markdown",
   "metadata": {},
   "source": [
    "Training data can be graphically depicted on a (hyper)plane.  \n",
    "**Classifiers** are **mappings** that take **feature vectors as input** and produce **labels as output**.  \n",
    "A common kind of classifier is the **linear classifier**, which linearly divides space(the (hyper)plane where training data lies) into two. Given a point $x$ in the space, the classifier $h$ outputs $h(x)=1$ or $h(x)=−1$, depending on where the point $x$ exists in among the two linearly divided spaces. "
   ]
  },
  {
   "cell_type": "markdown",
   "metadata": {},
   "source": [
    "**What is the meaning of the \"hypothesis space\"?  \n",
    "the set of possible classifiers**"
   ]
  },
  {
   "cell_type": "markdown",
   "metadata": {},
   "source": [
    "![Linear Classification](../resources/images/images_L1Classifier.png)"
   ]
  },
  {
   "cell_type": "markdown",
   "metadata": {},
   "source": [
    "$$S_n = \\{(x^i, y^i), i=1...n\\}$$  \n",
    "$$x \\in \\mathbb{R}^2, y \\in \\{-1, 1\\}$$"
   ]
  },
  {
   "cell_type": "markdown",
   "metadata": {},
   "source": [
    "Training Error:  \n",
    "$$E_n(h) = {1 \\over n} \\sum\\limits_{i=1}^n [h(x^i)\\neq y^i]$$"
   ]
  },
  {
   "cell_type": "markdown",
   "metadata": {},
   "source": [
    "**when there is a 50-50 chance you get 1 or -1, the performance compared to when you just take a random guess at the label.**"
   ]
  },
  {
   "cell_type": "markdown",
   "metadata": {},
   "source": [
    "## classification vs regression\n",
    "\n",
    "Classification maps feature vectors to categories. The number of categories need not be two - they can be as many as needed. Regression maps feature vectors to real numbers. There are other kinds of supervised learning as well.\n",
    "\n",
    "For a more thorough statistical background on classification and regression, please check out the following links. [Classification Regression](https://en.wikipedia.org/wiki/Statistical_classification)"
   ]
  },
  {
   "cell_type": "markdown",
   "metadata": {},
   "source": [
    "### Examples:\n",
    "- We want to come up with a classifier that classifies each news article into one of the following categories: politics, sports, entertainment. **(Classification)**\n",
    "- We want to estimate the price of bitcoin after 30 days. **(Regression)**"
   ]
  },
  {
   "cell_type": "markdown",
   "metadata": {},
   "source": [
    "## Different Types of Learning\n",
    "\n",
    "- **Supervised learning:** prediction based on examples of correct behavior.  \n",
    "   - Labelled training and test examples. (From the view of the machine learning algorithm the label Y is unknown for the test set. From your viewpoint (the person who is implementing the machine learning algorithm) these values would be known.)\n",
    "- **Unsupervised learning:** no explicit target, only data, goal to model/discover.\n",
    "   - Training and test examples with limited annotation.\n",
    "- **Semi-supervised learning:** supplement limited annotations with unsupervised learning.\n",
    "   - Data with no annotation.\n",
    "- **Active learning:** learn to query the examples actually needed for learning.\n",
    "   - Deciding which examples are needed to learn.\n",
    "- **Transfer learning:** how to apply what you have learned from A to B.\n",
    "   - Using knowledge from one task to solve another task.\n",
    "- **Reinforcement learning:** learning to act, not just predict; goal to optimize the consequences of actions.\n",
    "   - Learning to navigate a robot."
   ]
  }
 ],
 "metadata": {
  "kernelspec": {
   "display_name": "Python 3",
   "language": "python",
   "name": "python3"
  },
  "language_info": {
   "codemirror_mode": {
    "name": "ipython",
    "version": 3
   },
   "file_extension": ".py",
   "mimetype": "text/x-python",
   "name": "python",
   "nbconvert_exporter": "python",
   "pygments_lexer": "ipython3",
   "version": "3.7.6"
  }
 },
 "nbformat": 4,
 "nbformat_minor": 4
}
