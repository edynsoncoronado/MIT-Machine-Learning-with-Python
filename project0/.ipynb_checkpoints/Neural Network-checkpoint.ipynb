{
 "cells": [
  {
   "cell_type": "markdown",
   "metadata": {},
   "source": [
    "As introduced in the previous section, a neural network is a powerful tool often utilized in machine learning. Because neural networks are, fundamentally, very mathematical, we'll use them to motivate Numpy!\n",
    "\n",
    "We review the simplest neural network here:"
   ]
  },
  {
   "cell_type": "markdown",
   "metadata": {},
   "source": [
    "<img src=\"../resources/images/images_basic_nn.png\" width=600 height=600 />"
   ]
  },
  {
   "cell_type": "markdown",
   "metadata": {},
   "source": [
    "The output of the neural network, $z_1$, is dependent on the inputs $x_1$ and $x_2$. The importance of each of the inputs is given by values called weights. There is one weight from each input to each output. We show this here:"
   ]
  },
  {
   "cell_type": "markdown",
   "metadata": {},
   "source": [
    "<img src=\"../resources/images/images_basic_nn_weights.png\" width=600 height=600 />"
   ]
  },
  {
   "cell_type": "markdown",
   "metadata": {},
   "source": [
    "The inputs are given by $x$, and the outputs are given by $z_1$. Here, $w_{11}$ is the weight of input $1$ on output $1$ (our only output in this case), and $w_{21}$ is the weight of input $2$ on output $1$. In general, $w_{ij}$ represents the weight of input $i$ on output $j$. "
   ]
  },
  {
   "cell_type": "markdown",
   "metadata": {},
   "source": [
    "The output, $z_1$, is given by $z_1$=$f(w_{11}x_1+w_{21}x_2)$:"
   ]
  },
  {
   "cell_type": "markdown",
   "metadata": {},
   "source": [
    "<img src=\"../resources/images/images_basic_nn_product1.png\" width=600 height=600 />"
   ]
  },
  {
   "cell_type": "markdown",
   "metadata": {},
   "source": [
    "where $f$ is a specified nonlinear function, and it is usually the hyperbolic tangent function, $tanh$.\n",
    "\n",
    "If we express our inputs and weights as matrices, as shown here,"
   ]
  },
  {
   "cell_type": "markdown",
   "metadata": {},
   "source": [
    "<img src=\"../resources/images/images_basic_nn_product_matrices.png\" width=600 height=600 />"
   ]
  },
  {
   "cell_type": "markdown",
   "metadata": {},
   "source": [
    "then we can develop an elegant mathematical expression: $z_1=tanh(w^Tx⃗ )$. "
   ]
  }
 ],
 "metadata": {
  "kernelspec": {
   "display_name": "Python 3",
   "language": "python",
   "name": "python3"
  },
  "language_info": {
   "codemirror_mode": {
    "name": "ipython",
    "version": 3
   },
   "file_extension": ".py",
   "mimetype": "text/x-python",
   "name": "python",
   "nbconvert_exporter": "python",
   "pygments_lexer": "ipython3",
   "version": "3.7.6"
  }
 },
 "nbformat": 4,
 "nbformat_minor": 4
}
